{
 "cells": [
  {
   "cell_type": "markdown",
   "id": "24b26b7b",
   "metadata": {},
   "source": [
    "# DataFrame Practice Notes"
   ]
  },
  {
   "cell_type": "code",
   "execution_count": 1,
   "id": "ff314f45",
   "metadata": {},
   "outputs": [],
   "source": [
    "import findspark"
   ]
  },
  {
   "cell_type": "code",
   "execution_count": 2,
   "id": "dfbf81dc",
   "metadata": {},
   "outputs": [],
   "source": [
    "findspark.init()"
   ]
  },
  {
   "cell_type": "code",
   "execution_count": 3,
   "id": "7b8520bd",
   "metadata": {},
   "outputs": [],
   "source": [
    "import pyspark"
   ]
  },
  {
   "cell_type": "code",
   "execution_count": 4,
   "id": "08a8524b",
   "metadata": {},
   "outputs": [],
   "source": [
    "from pyspark.sql import SparkSession, Row"
   ]
  },
  {
   "cell_type": "code",
   "execution_count": 5,
   "id": "9fe35533",
   "metadata": {},
   "outputs": [
    {
     "name": "stderr",
     "output_type": "stream",
     "text": [
      "2023-04-11 13:01:51,628 WARN util.Utils: Your hostname, shiva-life resolves to a loopback address: 127.0.1.1; using 192.168.1.4 instead (on interface wlo1)\n",
      "2023-04-11 13:01:51,630 WARN util.Utils: Set SPARK_LOCAL_IP if you need to bind to another address\n",
      "Setting default log level to \"WARN\".\n",
      "To adjust logging level use sc.setLogLevel(newLevel). For SparkR, use setLogLevel(newLevel).\n",
      "2023-04-11 13:01:52,376 WARN util.NativeCodeLoader: Unable to load native-hadoop library for your platform... using builtin-java classes where applicable\n"
     ]
    }
   ],
   "source": [
    "spark = SparkSession.builder.appName(\"Fakefriends\").getOrCreate()"
   ]
  },
  {
   "cell_type": "code",
   "execution_count": 6,
   "id": "0174622e",
   "metadata": {},
   "outputs": [],
   "source": [
    "people = spark.read.option(\"header\", \"true\").option(\"inferSchema\", \"true\").csv(\"file:///home/bigdata/workspace/Spark_resources/fakefriends.csv\")"
   ]
  },
  {
   "cell_type": "code",
   "execution_count": 7,
   "id": "968f8523",
   "metadata": {},
   "outputs": [
    {
     "name": "stdout",
     "output_type": "stream",
     "text": [
      "Here is our inferred schema:\n",
      "root\n",
      " |-- ID: integer (nullable = true)\n",
      " |-- name: string (nullable = true)\n",
      " |-- age: integer (nullable = true)\n",
      " |-- numFriends: integer (nullable = true)\n",
      "\n"
     ]
    }
   ],
   "source": [
    "print(\"Here is our inferred schema:\")\n",
    "people.printSchema()"
   ]
  },
  {
   "cell_type": "code",
   "execution_count": 9,
   "id": "c429e9ff",
   "metadata": {},
   "outputs": [
    {
     "name": "stdout",
     "output_type": "stream",
     "text": [
      "let's display the name column:\n",
      "+--------+\n",
      "|    name|\n",
      "+--------+\n",
      "|    Will|\n",
      "|Jean-Luc|\n",
      "|    Hugh|\n",
      "|  Deanna|\n",
      "|   Quark|\n",
      "|  Weyoun|\n",
      "|  Gowron|\n",
      "|    Will|\n",
      "|  Jadzia|\n",
      "|    Hugh|\n",
      "|     Odo|\n",
      "|     Ben|\n",
      "|   Keiko|\n",
      "|Jean-Luc|\n",
      "|    Hugh|\n",
      "|     Rom|\n",
      "|  Weyoun|\n",
      "|     Odo|\n",
      "|Jean-Luc|\n",
      "|  Geordi|\n",
      "+--------+\n",
      "only showing top 20 rows\n",
      "\n"
     ]
    }
   ],
   "source": [
    "print(\"let's display the name column:\")\n",
    "people.select(\"name\").show()"
   ]
  },
  {
   "cell_type": "code",
   "execution_count": 23,
   "id": "79a8a2a1",
   "metadata": {},
   "outputs": [
    {
     "name": "stdout",
     "output_type": "stream",
     "text": [
      "filter out anyone over 21:\n",
      "+---+-------+---+----------+\n",
      "| ID|   name|age|numFriends|\n",
      "+---+-------+---+----------+\n",
      "| 21|  Miles| 19|       268|\n",
      "| 48|    Nog| 20|         1|\n",
      "| 52|Beverly| 19|       269|\n",
      "| 54|  Brunt| 19|         5|\n",
      "| 60| Geordi| 20|       100|\n",
      "| 73|  Brunt| 20|       384|\n",
      "|106|Beverly| 18|       499|\n",
      "|115|  Dukat| 18|       397|\n",
      "|133|  Quark| 19|       265|\n",
      "|136|   Will| 19|       335|\n",
      "|225|   Elim| 19|       106|\n",
      "|304|   Will| 19|       404|\n",
      "|327| Julian| 20|        63|\n",
      "|341|   Data| 18|       326|\n",
      "|349| Kasidy| 20|       277|\n",
      "|366|  Keiko| 19|       119|\n",
      "|373|  Quark| 19|       272|\n",
      "|377|Beverly| 18|       418|\n",
      "|404| Kasidy| 18|        24|\n",
      "|409|    Nog| 19|       267|\n",
      "+---+-------+---+----------+\n",
      "only showing top 20 rows\n",
      "\n"
     ]
    }
   ],
   "source": [
    "print(\"filter out anyone over 21:\")\n",
    "people.filter(people.age < 21).show()"
   ]
  },
  {
   "cell_type": "code",
   "execution_count": 11,
   "id": "5f6871ea",
   "metadata": {},
   "outputs": [
    {
     "name": "stdout",
     "output_type": "stream",
     "text": [
      "Group by age:\n",
      "+---+-----+\n",
      "|age|count|\n",
      "+---+-----+\n",
      "| 31|    8|\n",
      "| 65|    5|\n",
      "| 53|    7|\n",
      "| 34|    6|\n",
      "| 28|   10|\n",
      "| 26|   17|\n",
      "| 27|    8|\n",
      "| 44|   12|\n",
      "| 22|    7|\n",
      "| 47|    9|\n",
      "| 52|   11|\n",
      "| 40|   17|\n",
      "| 20|    5|\n",
      "| 57|   12|\n",
      "| 54|   13|\n",
      "| 48|   10|\n",
      "| 19|   11|\n",
      "| 64|   12|\n",
      "| 41|    9|\n",
      "| 43|    7|\n",
      "+---+-----+\n",
      "only showing top 20 rows\n",
      "\n"
     ]
    }
   ],
   "source": [
    "print(\"Group by age:\")\n",
    "people.groupBy(\"age\").count().show()"
   ]
  },
  {
   "cell_type": "code",
   "execution_count": 16,
   "id": "906a9f4c",
   "metadata": {},
   "outputs": [
    {
     "name": "stdout",
     "output_type": "stream",
     "text": [
      "Make everyone 10 years older:\n",
      "+--------+----------+\n",
      "|    name|(age + 10)|\n",
      "+--------+----------+\n",
      "|    Will|        43|\n",
      "|Jean-Luc|        36|\n",
      "|    Hugh|        65|\n",
      "|  Deanna|        50|\n",
      "|   Quark|        78|\n",
      "|  Weyoun|        69|\n",
      "|  Gowron|        47|\n",
      "|    Will|        64|\n",
      "|  Jadzia|        48|\n",
      "|    Hugh|        37|\n",
      "|     Odo|        63|\n",
      "|     Ben|        67|\n",
      "|   Keiko|        64|\n",
      "|Jean-Luc|        66|\n",
      "|    Hugh|        53|\n",
      "|     Rom|        46|\n",
      "|  Weyoun|        32|\n",
      "|     Odo|        45|\n",
      "|Jean-Luc|        55|\n",
      "|  Geordi|        70|\n",
      "+--------+----------+\n",
      "only showing top 20 rows\n",
      "\n"
     ]
    }
   ],
   "source": [
    "print(\"Make everyone 10 years older:\")\n",
    "people.select(people.name ,people.age + 10).show()"
   ]
  },
  {
   "cell_type": "markdown",
   "id": "02c7b6d5",
   "metadata": {},
   "source": [
    "## CALCULATE AVERAGE AGE OF FRIENDS."
   ]
  },
  {
   "cell_type": "markdown",
   "id": "eb85c174",
   "metadata": {},
   "source": [
    "### HERE WE ALREADY LOADED CSV FILE OF FRIENDS INTO PEOPLE DATAFRAME\n",
    "**people** is available as DataFrame. "
   ]
  },
  {
   "cell_type": "code",
   "execution_count": 32,
   "id": "11bffd1d",
   "metadata": {},
   "outputs": [
    {
     "name": "stdout",
     "output_type": "stream",
     "text": [
      "+---+------------------+\n",
      "|age|   avg(NumFriends)|\n",
      "+---+------------------+\n",
      "| 31|            267.25|\n",
      "| 65|             298.2|\n",
      "| 53|222.85714285714286|\n",
      "| 34|             245.5|\n",
      "| 28|             209.1|\n",
      "| 26|242.05882352941177|\n",
      "| 27|           228.125|\n",
      "| 44| 282.1666666666667|\n",
      "| 22|206.42857142857142|\n",
      "| 47|233.22222222222223|\n",
      "| 52| 340.6363636363636|\n",
      "| 40| 250.8235294117647|\n",
      "| 20|             165.0|\n",
      "| 57| 258.8333333333333|\n",
      "| 54| 278.0769230769231|\n",
      "| 48|             281.4|\n",
      "| 19|213.27272727272728|\n",
      "| 64| 281.3333333333333|\n",
      "| 41|268.55555555555554|\n",
      "| 43|230.57142857142858|\n",
      "+---+------------------+\n",
      "only showing top 20 rows\n",
      "\n"
     ]
    }
   ],
   "source": [
    "people.groupBy(\"age\").avg(\"NumFriends\").show()"
   ]
  }
 ],
 "metadata": {
  "kernelspec": {
   "display_name": "Python 3 (ipykernel)",
   "language": "python",
   "name": "python3"
  },
  "language_info": {
   "codemirror_mode": {
    "name": "ipython",
    "version": 3
   },
   "file_extension": ".py",
   "mimetype": "text/x-python",
   "name": "python",
   "nbconvert_exporter": "python",
   "pygments_lexer": "ipython3",
   "version": "3.10.6"
  }
 },
 "nbformat": 4,
 "nbformat_minor": 5
}
