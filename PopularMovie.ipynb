{
 "cells": [
  {
   "cell_type": "code",
   "execution_count": 1,
   "id": "a6fad03d",
   "metadata": {},
   "outputs": [],
   "source": [
    "import findspark"
   ]
  },
  {
   "cell_type": "code",
   "execution_count": 2,
   "id": "b2d45794",
   "metadata": {},
   "outputs": [],
   "source": [
    "findspark.init()"
   ]
  },
  {
   "cell_type": "code",
   "execution_count": 3,
   "id": "c95d742f",
   "metadata": {},
   "outputs": [],
   "source": [
    "import pyspark"
   ]
  },
  {
   "cell_type": "code",
   "execution_count": 4,
   "id": "c45ac5c4",
   "metadata": {},
   "outputs": [],
   "source": [
    "from pyspark.sql import SparkSession, functions as func  "
   ]
  },
  {
   "cell_type": "code",
   "execution_count": 5,
   "id": "8e920df7",
   "metadata": {},
   "outputs": [],
   "source": [
    "from pyspark.sql.types import StructField, StructType, IntegerType, LongType"
   ]
  },
  {
   "cell_type": "code",
   "execution_count": 6,
   "id": "c980e52d",
   "metadata": {},
   "outputs": [
    {
     "name": "stderr",
     "output_type": "stream",
     "text": [
      "2023-04-12 15:50:38,223 WARN util.Utils: Your hostname, shiva-life resolves to a loopback address: 127.0.1.1; using 192.168.1.4 instead (on interface wlo1)\n",
      "2023-04-12 15:50:38,225 WARN util.Utils: Set SPARK_LOCAL_IP if you need to bind to another address\n",
      "Setting default log level to \"WARN\".\n",
      "To adjust logging level use sc.setLogLevel(newLevel). For SparkR, use setLogLevel(newLevel).\n",
      "2023-04-12 15:50:49,291 WARN util.NativeCodeLoader: Unable to load native-hadoop library for your platform... using builtin-java classes where applicable\n"
     ]
    }
   ],
   "source": [
    "spark = SparkSession.builder.appName(\"popularMovie\").getOrCreate()"
   ]
  },
  {
   "cell_type": "code",
   "execution_count": 7,
   "id": "5e20a874",
   "metadata": {},
   "outputs": [],
   "source": [
    "schema = StructType([\n",
    "    StructField(\"userId\", IntegerType(), True),\n",
    "    StructField(\"movieId\", IntegerType(), True),\n",
    "    StructField(\"ratings\", IntegerType(), True),\n",
    "    StructField(\"timeStamp\", LongType(), True)\n",
    "])"
   ]
  },
  {
   "cell_type": "code",
   "execution_count": 9,
   "id": "47a14692",
   "metadata": {},
   "outputs": [],
   "source": [
    "movieDf = spark.read.option(\"sep\",\"\\t\").schema(schema).csv(\"file:///home/bigdata/Downloads/ml-100k/u.data\")"
   ]
  },
  {
   "cell_type": "code",
   "execution_count": 10,
   "id": "31c5fc58",
   "metadata": {},
   "outputs": [
    {
     "name": "stderr",
     "output_type": "stream",
     "text": [
      "\r",
      "[Stage 0:>                                                          (0 + 1) / 1]\r",
      "\r",
      "                                                                                \r"
     ]
    },
    {
     "name": "stdout",
     "output_type": "stream",
     "text": [
      "+------+-------+-------+---------+\n",
      "|userId|movieId|ratings|timeStamp|\n",
      "+------+-------+-------+---------+\n",
      "|   196|    242|      3|881250949|\n",
      "|   186|    302|      3|891717742|\n",
      "|    22|    377|      1|878887116|\n",
      "|   244|     51|      2|880606923|\n",
      "|   166|    346|      1|886397596|\n",
      "|   298|    474|      4|884182806|\n",
      "|   115|    265|      2|881171488|\n",
      "|   253|    465|      5|891628467|\n",
      "|   305|    451|      3|886324817|\n",
      "|     6|     86|      3|883603013|\n",
      "|    62|    257|      2|879372434|\n",
      "|   286|   1014|      5|879781125|\n",
      "|   200|    222|      5|876042340|\n",
      "|   210|     40|      3|891035994|\n",
      "|   224|     29|      3|888104457|\n",
      "|   303|    785|      3|879485318|\n",
      "|   122|    387|      5|879270459|\n",
      "|   194|    274|      2|879539794|\n",
      "|   291|   1042|      4|874834944|\n",
      "|   234|   1184|      2|892079237|\n",
      "+------+-------+-------+---------+\n",
      "only showing top 20 rows\n",
      "\n"
     ]
    }
   ],
   "source": [
    "movieDf.show()"
   ]
  },
  {
   "cell_type": "code",
   "execution_count": 19,
   "id": "b4c06580",
   "metadata": {},
   "outputs": [],
   "source": [
    "popular = movieDf.groupBy(\"movieId\").count().orderBy(func.desc(\"count\"))"
   ]
  },
  {
   "cell_type": "code",
   "execution_count": 17,
   "id": "8fe4c771",
   "metadata": {},
   "outputs": [
    {
     "name": "stdout",
     "output_type": "stream",
     "text": [
      "+-------+-----+\n",
      "|movieId|count|\n",
      "+-------+-----+\n",
      "|     50|  583|\n",
      "|    258|  509|\n",
      "|    100|  508|\n",
      "|    181|  507|\n",
      "|    294|  485|\n",
      "|    286|  481|\n",
      "|    288|  478|\n",
      "|      1|  452|\n",
      "|    300|  431|\n",
      "|    121|  429|\n",
      "+-------+-----+\n",
      "only showing top 10 rows\n",
      "\n"
     ]
    }
   ],
   "source": [
    "popular.show(10)"
   ]
  },
  {
   "cell_type": "code",
   "execution_count": null,
   "id": "01b74415",
   "metadata": {},
   "outputs": [],
   "source": []
  }
 ],
 "metadata": {
  "kernelspec": {
   "display_name": "Python 3 (ipykernel)",
   "language": "python",
   "name": "python3"
  },
  "language_info": {
   "codemirror_mode": {
    "name": "ipython",
    "version": 3
   },
   "file_extension": ".py",
   "mimetype": "text/x-python",
   "name": "python",
   "nbconvert_exporter": "python",
   "pygments_lexer": "ipython3",
   "version": "3.10.6"
  }
 },
 "nbformat": 4,
 "nbformat_minor": 5
}
