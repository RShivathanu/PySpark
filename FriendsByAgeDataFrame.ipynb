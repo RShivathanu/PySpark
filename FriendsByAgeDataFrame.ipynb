{
 "cells": [
  {
   "cell_type": "markdown",
   "id": "f0078961",
   "metadata": {},
   "source": [
    "# FIND THE AVERAGE NUMBER OF FRIENDS FOR EACH AGE USING GIVEN CSV FILE. (Mini Project)"
   ]
  },
  {
   "cell_type": "markdown",
   "id": "1f37a246",
   "metadata": {},
   "source": [
    "### IMPORT FINDSPARK TO FIND SPARK IN LOCAL."
   ]
  },
  {
   "cell_type": "code",
   "execution_count": 1,
   "id": "09cbfaba",
   "metadata": {},
   "outputs": [],
   "source": [
    "import findspark"
   ]
  },
  {
   "cell_type": "markdown",
   "id": "6b2681de",
   "metadata": {},
   "source": [
    "### INTIALIZE FINDSPARK"
   ]
  },
  {
   "cell_type": "code",
   "execution_count": 2,
   "id": "5fe03b7b",
   "metadata": {},
   "outputs": [],
   "source": [
    "findspark.init()"
   ]
  },
  {
   "cell_type": "markdown",
   "id": "1a2a7074",
   "metadata": {},
   "source": [
    "###  IMPORT PYSPARK"
   ]
  },
  {
   "cell_type": "code",
   "execution_count": 3,
   "id": "9c4970ae",
   "metadata": {},
   "outputs": [],
   "source": [
    "import pyspark"
   ]
  },
  {
   "cell_type": "markdown",
   "id": "7d177d18",
   "metadata": {},
   "source": [
    "### IMPORT SPARKSESSION, ROW, FUNCTIONS"
   ]
  },
  {
   "cell_type": "code",
   "execution_count": 4,
   "id": "dbb453bf",
   "metadata": {},
   "outputs": [],
   "source": [
    "from pyspark.sql import SparkSession, Row, functions as func"
   ]
  },
  {
   "cell_type": "markdown",
   "id": "e42d9261",
   "metadata": {},
   "source": [
    "### CREATE SPARKSESSION AS SPARK"
   ]
  },
  {
   "cell_type": "code",
   "execution_count": 5,
   "id": "44f3ad1f",
   "metadata": {},
   "outputs": [
    {
     "name": "stderr",
     "output_type": "stream",
     "text": [
      "2023-04-11 16:09:35,815 WARN util.Utils: Your hostname, shiva-life resolves to a loopback address: 127.0.1.1; using 192.168.1.4 instead (on interface wlo1)\n",
      "2023-04-11 16:09:35,817 WARN util.Utils: Set SPARK_LOCAL_IP if you need to bind to another address\n",
      "Setting default log level to \"WARN\".\n",
      "To adjust logging level use sc.setLogLevel(newLevel). For SparkR, use setLogLevel(newLevel).\n",
      "2023-04-11 16:09:36,798 WARN util.NativeCodeLoader: Unable to load native-hadoop library for your platform... using builtin-java classes where applicable\n",
      "2023-04-11 16:09:37,887 WARN util.Utils: Service 'SparkUI' could not bind on port 4040. Attempting port 4041.\n",
      "2023-04-11 16:09:37,888 WARN util.Utils: Service 'SparkUI' could not bind on port 4041. Attempting port 4042.\n"
     ]
    }
   ],
   "source": [
    "spark = SparkSession.builder.appName(\"FriendsByAge\").getOrCreate()"
   ]
  },
  {
   "cell_type": "markdown",
   "id": "1cad063a",
   "metadata": {},
   "source": [
    "### LOAD THE CSV FILE AND MENTION HEADER AND INFER SCHEMA"
   ]
  },
  {
   "cell_type": "code",
   "execution_count": 6,
   "id": "ade0fded",
   "metadata": {},
   "outputs": [],
   "source": [
    "lines = spark.read.option(\"header\", \"true\").option(\"inferSchema\", \"true\").csv(\"file:///home/bigdata/workspace/Spark_resources/fakefriends.csv\")"
   ]
  },
  {
   "cell_type": "markdown",
   "id": "640b8908",
   "metadata": {},
   "source": [
    "### Select only age and numFriends columns"
   ]
  },
  {
   "cell_type": "code",
   "execution_count": 7,
   "id": "102e3015",
   "metadata": {},
   "outputs": [],
   "source": [
    "friendsByAge = lines.select(\"age\", \"NumFriends\")"
   ]
  },
  {
   "cell_type": "markdown",
   "id": "22be39e4",
   "metadata": {},
   "source": [
    "### From friendsByAge we group by \"age\" and then compute average"
   ]
  },
  {
   "cell_type": "code",
   "execution_count": 8,
   "id": "a92f7206",
   "metadata": {},
   "outputs": [
    {
     "name": "stdout",
     "output_type": "stream",
     "text": [
      "+---+------------------+\n",
      "|age|   avg(NumFriends)|\n",
      "+---+------------------+\n",
      "| 31|            267.25|\n",
      "| 65|             298.2|\n",
      "| 53|222.85714285714286|\n",
      "| 34|             245.5|\n",
      "| 28|             209.1|\n",
      "| 26|242.05882352941177|\n",
      "| 27|           228.125|\n",
      "| 44| 282.1666666666667|\n",
      "| 22|206.42857142857142|\n",
      "| 47|233.22222222222223|\n",
      "| 52| 340.6363636363636|\n",
      "| 40| 250.8235294117647|\n",
      "| 20|             165.0|\n",
      "| 57| 258.8333333333333|\n",
      "| 54| 278.0769230769231|\n",
      "| 48|             281.4|\n",
      "| 19|213.27272727272728|\n",
      "| 64| 281.3333333333333|\n",
      "| 41|268.55555555555554|\n",
      "| 43|230.57142857142858|\n",
      "+---+------------------+\n",
      "only showing top 20 rows\n",
      "\n"
     ]
    }
   ],
   "source": [
    "friendsByAge.groupBy(\"age\").avg(\"NumFriends\").show()"
   ]
  },
  {
   "cell_type": "markdown",
   "id": "899ba84a",
   "metadata": {},
   "source": [
    "### Sort the above Result"
   ]
  },
  {
   "cell_type": "code",
   "execution_count": 9,
   "id": "f7e349f4",
   "metadata": {},
   "outputs": [
    {
     "name": "stdout",
     "output_type": "stream",
     "text": [
      "+---+------------------+\n",
      "|age|   avg(NumFriends)|\n",
      "+---+------------------+\n",
      "| 18|           343.375|\n",
      "| 19|213.27272727272728|\n",
      "| 20|             165.0|\n",
      "| 21|           350.875|\n",
      "| 22|206.42857142857142|\n",
      "| 23|             246.3|\n",
      "| 24|             233.8|\n",
      "| 25|197.45454545454547|\n",
      "| 26|242.05882352941177|\n",
      "| 27|           228.125|\n",
      "| 28|             209.1|\n",
      "| 29|215.91666666666666|\n",
      "| 30| 235.8181818181818|\n",
      "| 31|            267.25|\n",
      "| 32| 207.9090909090909|\n",
      "| 33| 325.3333333333333|\n",
      "| 34|             245.5|\n",
      "| 35|           211.625|\n",
      "| 36|             246.6|\n",
      "| 37|249.33333333333334|\n",
      "+---+------------------+\n",
      "only showing top 20 rows\n",
      "\n"
     ]
    }
   ],
   "source": [
    "friendsByAge.groupBy(\"age\").avg(\"NumFriends\").sort(\"age\").show()"
   ]
  },
  {
   "cell_type": "markdown",
   "id": "4717c563",
   "metadata": {},
   "source": [
    "### Formatted the above result precisely and more nicely"
   ]
  },
  {
   "cell_type": "code",
   "execution_count": 10,
   "id": "c981ab5a",
   "metadata": {},
   "outputs": [
    {
     "name": "stdout",
     "output_type": "stream",
     "text": [
      "+---+-------------------------+\n",
      "|age|round(avg(NumFriends), 2)|\n",
      "+---+-------------------------+\n",
      "| 18|                   343.38|\n",
      "| 19|                   213.27|\n",
      "| 20|                    165.0|\n",
      "| 21|                   350.88|\n",
      "| 22|                   206.43|\n",
      "| 23|                    246.3|\n",
      "| 24|                    233.8|\n",
      "| 25|                   197.45|\n",
      "| 26|                   242.06|\n",
      "| 27|                   228.13|\n",
      "| 28|                    209.1|\n",
      "| 29|                   215.92|\n",
      "| 30|                   235.82|\n",
      "| 31|                   267.25|\n",
      "| 32|                   207.91|\n",
      "| 33|                   325.33|\n",
      "| 34|                    245.5|\n",
      "| 35|                   211.63|\n",
      "| 36|                    246.6|\n",
      "| 37|                   249.33|\n",
      "+---+-------------------------+\n",
      "only showing top 20 rows\n",
      "\n"
     ]
    }
   ],
   "source": [
    "friendsByAge.groupBy(\"age\").agg(func.round(func.avg(\"NumFriends\"), 2)).sort(\"age\").show()"
   ]
  },
  {
   "cell_type": "markdown",
   "id": "1cd92ad4",
   "metadata": {},
   "source": [
    "### With a custom column name"
   ]
  },
  {
   "cell_type": "code",
   "execution_count": 11,
   "id": "a36dedd8",
   "metadata": {},
   "outputs": [
    {
     "name": "stdout",
     "output_type": "stream",
     "text": [
      "+---+-----------+\n",
      "|age|friends_avg|\n",
      "+---+-----------+\n",
      "| 18|     343.38|\n",
      "| 19|     213.27|\n",
      "| 20|      165.0|\n",
      "| 21|     350.88|\n",
      "| 22|     206.43|\n",
      "| 23|      246.3|\n",
      "| 24|      233.8|\n",
      "| 25|     197.45|\n",
      "| 26|     242.06|\n",
      "| 27|     228.13|\n",
      "| 28|      209.1|\n",
      "| 29|     215.92|\n",
      "| 30|     235.82|\n",
      "| 31|     267.25|\n",
      "| 32|     207.91|\n",
      "| 33|     325.33|\n",
      "| 34|      245.5|\n",
      "| 35|     211.63|\n",
      "| 36|      246.6|\n",
      "| 37|     249.33|\n",
      "+---+-----------+\n",
      "only showing top 20 rows\n",
      "\n"
     ]
    }
   ],
   "source": [
    "friendsByAge.groupBy(\"age\").agg(func.round(func.avg(\"NumFriends\"), 2).alias(\"friends_avg\")).sort(\"age\").show()"
   ]
  },
  {
   "cell_type": "code",
   "execution_count": null,
   "id": "0e835c34",
   "metadata": {},
   "outputs": [],
   "source": []
  }
 ],
 "metadata": {
  "kernelspec": {
   "display_name": "Python 3 (ipykernel)",
   "language": "python",
   "name": "python3"
  },
  "language_info": {
   "codemirror_mode": {
    "name": "ipython",
    "version": 3
   },
   "file_extension": ".py",
   "mimetype": "text/x-python",
   "name": "python",
   "nbconvert_exporter": "python",
   "pygments_lexer": "ipython3",
   "version": "3.10.6"
  }
 },
 "nbformat": 4,
 "nbformat_minor": 5
}
